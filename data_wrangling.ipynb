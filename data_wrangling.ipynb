{
 "cells": [
  {
   "cell_type": "code",
   "execution_count": 2,
   "id": "4a44984e-bc8d-4475-9187-40cfe1017287",
   "metadata": {},
   "outputs": [],
   "source": [
    "import pandas as pd\n",
    "import polars as pl\n"
   ]
  },
  {
   "cell_type": "code",
   "execution_count": 3,
   "id": "506808b9-8768-4167-b04b-05dbcd27c9e0",
   "metadata": {},
   "outputs": [],
   "source": [
    "import polars.selectors as cs\n",
    "import re\n",
    "from datetime import date\n"
   ]
  },
  {
   "cell_type": "code",
   "execution_count": 6,
   "id": "b739e0b0",
   "metadata": {},
   "outputs": [
    {
     "name": "stdout",
     "output_type": "stream",
     "text": [
      "/home/jovyan\n"
     ]
    }
   ],
   "source": [
    "!pwd\n"
   ]
  },
  {
   "cell_type": "markdown",
   "id": "b6facf3a-699a-4b4a-a182-0be3ab320c81",
   "metadata": {},
   "source": [
    "# Carrega a base simples"
   ]
  },
  {
   "cell_type": "code",
   "execution_count": 7,
   "id": "af61ddb5-9972-4666-b52e-2f43dd0d77ad",
   "metadata": {},
   "outputs": [],
   "source": [
    "df = pd.read_csv(\"~/work/fiap_datathon/data/PEDE_PASSOS_DATASET_FIAP.csv\", sep=\";\")\n",
    "# checa se o arquivo foi carregado inteiro\n",
    "assert len(df.index) > 1000\n"
   ]
  },
  {
   "cell_type": "code",
   "execution_count": 8,
   "id": "26a7e86d-d028-407e-a43a-fd6937cd6e13",
   "metadata": {},
   "outputs": [
    {
     "name": "stdout",
     "output_type": "stream",
     "text": [
      "<class 'pandas.core.frame.DataFrame'>\n",
      "RangeIndex: 1349 entries, 0 to 1348\n",
      "Data columns (total 69 columns):\n",
      " #   Column                         Non-Null Count  Dtype  \n",
      "---  ------                         --------------  -----  \n",
      " 0   INSTITUICAO_ENSINO_ALUNO_2020  728 non-null    object \n",
      " 1   NOME                           1349 non-null   object \n",
      " 2   IDADE_ALUNO_2020               728 non-null    object \n",
      " 3   ANOS_PM_2020                   728 non-null    object \n",
      " 4   FASE_TURMA_2020                728 non-null    object \n",
      " 5   PONTO_VIRADA_2020              702 non-null    object \n",
      " 6   INDE_2020                      728 non-null    object \n",
      " 7   INDE_CONCEITO_2020             728 non-null    object \n",
      " 8   PEDRA_2020                     728 non-null    object \n",
      " 9   DESTAQUE_IEG_2020              728 non-null    object \n",
      " 10  DESTAQUE_IDA_2020              728 non-null    object \n",
      " 11  DESTAQUE_IPV_2020              703 non-null    object \n",
      " 12  IAA_2020                       728 non-null    object \n",
      " 13  IEG_2020                       728 non-null    object \n",
      " 14  IPS_2020                       728 non-null    object \n",
      " 15  IDA_2020                       728 non-null    object \n",
      " 16  IPP_2020                       728 non-null    object \n",
      " 17  IPV_2020                       728 non-null    object \n",
      " 18  IAN_2020                       728 non-null    object \n",
      " 19  FASE_2021                      686 non-null    float64\n",
      " 20  TURMA_2021                     686 non-null    object \n",
      " 21  INSTITUICAO_ENSINO_ALUNO_2021  686 non-null    object \n",
      " 22  SINALIZADOR_INGRESSANTE_2021   686 non-null    object \n",
      " 23  PEDRA_2021                     686 non-null    object \n",
      " 24  INDE_2021                      686 non-null    object \n",
      " 25  IAA_2021                       686 non-null    float64\n",
      " 26  IEG_2021                       686 non-null    float64\n",
      " 27  IPS_2021                       686 non-null    float64\n",
      " 28  IDA_2021                       686 non-null    float64\n",
      " 29  IPP_2021                       686 non-null    float64\n",
      " 30  REC_EQUIPE_1_2021              686 non-null    object \n",
      " 31  REC_EQUIPE_2_2021              686 non-null    object \n",
      " 32  REC_EQUIPE_3_2021              686 non-null    object \n",
      " 33  REC_EQUIPE_4_2021              686 non-null    object \n",
      " 34  PONTO_VIRADA_2021              686 non-null    object \n",
      " 35  IPV_2021                       686 non-null    float64\n",
      " 36  IAN_2021                       686 non-null    float64\n",
      " 37  NIVEL_IDEAL_2021               686 non-null    object \n",
      " 38  DEFASAGEM_2021                 686 non-null    float64\n",
      " 39  FASE_2022                      862 non-null    float64\n",
      " 40  TURMA_2022                     862 non-null    object \n",
      " 41  ANO_INGRESSO_2022              862 non-null    float64\n",
      " 42  BOLSISTA_2022                  862 non-null    object \n",
      " 43  INDE_2022                      862 non-null    float64\n",
      " 44  CG_2022                        862 non-null    float64\n",
      " 45  CF_2022                        862 non-null    float64\n",
      " 46  CT_2022                        862 non-null    float64\n",
      " 47  PEDRA_2022                     862 non-null    object \n",
      " 48  DESTAQUE_IEG_2022              862 non-null    object \n",
      " 49  DESTAQUE_IDA_2022              862 non-null    object \n",
      " 50  DESTAQUE_IPV_2022              862 non-null    object \n",
      " 51  IAA_2022                       862 non-null    float64\n",
      " 52  IEG_2022                       862 non-null    float64\n",
      " 53  IPS_2022                       862 non-null    float64\n",
      " 54  IDA_2022                       862 non-null    float64\n",
      " 55  NOTA_PORT_2022                 860 non-null    float64\n",
      " 56  NOTA_MAT_2022                  860 non-null    float64\n",
      " 57  NOTA_ING_2022                  285 non-null    float64\n",
      " 58  QTD_AVAL_2022                  862 non-null    float64\n",
      " 59  IPP_2022                       862 non-null    float64\n",
      " 60  REC_AVA_1_2022                 862 non-null    object \n",
      " 61  REC_AVA_2_2022                 862 non-null    object \n",
      " 62  REC_AVA_3_2022                 626 non-null    object \n",
      " 63  REC_AVA_4_2022                 285 non-null    object \n",
      " 64  INDICADO_BOLSA_2022            862 non-null    object \n",
      " 65  PONTO_VIRADA_2022              862 non-null    object \n",
      " 66  IPV_2022                       862 non-null    float64\n",
      " 67  IAN_2022                       862 non-null    float64\n",
      " 68  NIVEL_IDEAL_2022               862 non-null    object \n",
      "dtypes: float64(26), object(43)\n",
      "memory usage: 727.3+ KB\n"
     ]
    }
   ],
   "source": [
    "df.info()\n"
   ]
  },
  {
   "cell_type": "code",
   "execution_count": null,
   "id": "ba83fefe-e73f-4619-aa65-8d7a1a915d79",
   "metadata": {},
   "outputs": [],
   "source": [
    "df_pl = pl.from_dataframe(df)\n",
    "assert df_pl.is_empty != False\n",
    "assert len(df_pl.columns) == 69\n"
   ]
  },
  {
   "cell_type": "code",
   "execution_count": null,
   "id": "1e6eb5e7-29e8-4498-b6d3-9fe623e05fba",
   "metadata": {},
   "outputs": [
    {
     "name": "stdout",
     "output_type": "stream",
     "text": [
      "Rows: 1349\n",
      "Columns: 69\n",
      "$ INSTITUICAO_ENSINO_ALUNO_2020 <str> 'Escola Pública', None, 'Escola Pública', 'Escola Pública', 'Escola Pública', None, None, 'Rede Decisão/União', None, 'Escola Pública'\n",
      "$ NOME                          <str> 'ALUNO-1', 'ALUNO-2', 'ALUNO-3', 'ALUNO-4', 'ALUNO-5', 'ALUNO-6', 'ALUNO-7', 'ALUNO-8', 'ALUNO-9', 'ALUNO-10'\n",
      "$ IDADE_ALUNO_2020              <str> '11', None, '12', '10', '10', None, None, '14', None, '13'\n",
      "$ ANOS_PM_2020                  <str> '2', None, '2', '2', '1', None, None, '3', None, '1'\n",
      "$ FASE_TURMA_2020               <str> '2H', None, '3H', '1D', '2M', None, None, '4L', None, '3B'\n",
      "$ PONTO_VIRADA_2020             <str> 'Não', None, 'Não', 'Não', 'Não', None, None, 'Sim', None, 'Não'\n",
      "$ INDE_2020                     <str> '7.883752', None, '7.856389666666666', '5.076252', '8.077085', None, None, '8.381390666666666', None, '5.1618745'\n",
      "$ INDE_CONCEITO_2020            <str> 'B', None, 'B', 'D', 'B', None, None, 'B', None, 'D'\n",
      "$ PEDRA_2020                    <str> 'Ametista', None, 'Ametista', 'Quartzo', 'Ametista', None, None, 'Ametista', None, 'Quartzo'\n",
      "$ DESTAQUE_IEG_2020             <str> 'Seu destaque em 2020: A sua boa entrega das lições de casa.', None, 'Seu destaque em 2020: A sua boa entrega das lições de casa.', 'Ponto a melhorar em 2021: Melhorar a sua entrega de lições de casa.', 'Seu destaque em 2020: A sua boa entrega das lições de casa.', None, None, 'Seu destaque em 2020: A sua boa entrega das lições de casa.', None, 'Ponto a melhorar em 2021: Melhorar a sua entrega de lições de casa.'\n",
      "$ DESTAQUE_IDA_2020             <str> 'Ponto a melhorar em 2021: Empenhar-se mais nas aulas e avaliações.', None, 'Ponto a melhorar em 2021: Empenhar-se mais nas aulas e avaliações.', 'Ponto a melhorar em 2021: Empenhar-se mais nas aulas e avaliações.', 'Seu destaque em 2020: As suas boas notas na Passos Mágicos.', None, None, 'Ponto a melhorar em 2021: Empenhar-se mais nas aulas e avaliações.', None, 'Ponto a melhorar em 2021: Empenhar-se mais nas aulas e avaliações.'\n",
      "$ DESTAQUE_IPV_2020             <str> 'Seu destaque em 2020: A sua boa integração aos Princípios Passos Mágicos.', None, 'Seu destaque em 2020: A sua boa integração aos Princípios Passos Mágicos.', 'Ponto a melhorar em 2021: Integrar-se mais aos Princípios Passos Mágicos.', 'Seu destaque em 2020: A sua boa integração aos Princípios Passos Mágicos.', None, None, 'Seu destaque em 2020: A sua boa integração aos Princípios Passos Mágicos.', None, 'Seu destaque em 2020: A sua boa integração aos Princípios Passos Mágicos.'\n",
      "$ IAA_2020                      <str> '8.500020000000001', None, '7.91667', '8.000020000000001', '7.50002', None, None, '8.33334', None, '5.83333'\n",
      "$ IEG_2020                      <str> '8.7', None, '8.9', '4.1', '8', None, None, '9.9', None, '5.2'\n",
      "$ IPS_2020                      <str> '7.5', None, '7.5', '6.875', '7.5', None, None, '4.375', None, '3.75'\n",
      "$ IDA_2020                      <str> '7', None, '5.5', '0', '7.5', None, None, '7.333333333333333', None, '0'\n",
      "$ IPP_2020                      <str> '5.9375', None, '8.125', '7.1875', '8.4375', None, None, '8.749999999999998', None, '7.96875'\n",
      "$ IPV_2020                      <str> '7.75', None, '8.111113333333334', '7.75', '8.166665', None, None, '8.94445', None, '6.8333325'\n",
      "$ IAN_2020                      <str> '10', None, '10', '5', '10', None, None, '10', None, '10'\n",
      "$ FASE_2021                     <f64> 2.0, None, 3.0, None, 2.0, None, None, 5.0, None, None\n",
      "$ TURMA_2021                    <str> 'G', None, 'F', None, 'L', None, None, 'L', None, None\n",
      "$ INSTITUICAO_ENSINO_ALUNO_2021 <str> 'Rede Decisão', None, 'Escola Pública', None, 'Escola Pública', None, None, 'Rede Decisão', None, None\n",
      "$ SINALIZADOR_INGRESSANTE_2021  <str> 'Ingressante', None, 'Veterano', None, 'Veterano', None, None, 'Veterano', None, None\n",
      "$ PEDRA_2021                    <str> 'Ametista', None, 'Ametista', None, 'Ametista', None, None, 'Topázio', None, None\n",
      "$ INDE_2021                     <str> '7.319', None, '7.021', None, '7.399', None, None, '8.269', None, None\n",
      "$ IAA_2021                      <f64> 7.5, None, 7.1, None, 7.4, None, None, 8.8, None, None\n",
      "$ IEG_2021                      <f64> 6.3, None, 6.9, None, 7.5, None, None, 8.6, None, None\n",
      "$ IPS_2021                      <f64> 6.9, None, 6.3, None, 7.5, None, None, 7.5, None, None\n",
      "$ IDA_2021                      <f64> 8.8, None, 5.6, None, 5.4, None, None, 7.1, None, None\n",
      "$ IPP_2021                      <f64> 7.7, None, 7.3, None, 8.5, None, None, 8.0, None, None\n",
      "$ REC_EQUIPE_1_2021             <str> 'Promovido de Fase', None, 'Promovido de Fase', None, 'Promovido de Fase', None, None, 'Promovido de Fase + Bolsa', None, None\n",
      "$ REC_EQUIPE_2_2021             <str> 'Promovido de Fase', None, 'Promovido de Fase', None, 'Mantido na Fase atual', None, None, 'Promovido de Fase', None, None\n",
      "$ REC_EQUIPE_3_2021             <str> 'Mantido na Fase atual', None, 'Mantido na Fase atual', None, 'Mantido na Fase atual', None, None, 'Promovido de Fase', None, None\n",
      "$ REC_EQUIPE_4_2021             <str> 'Não avaliado', None, 'Não avaliado', None, 'Não avaliado', None, None, 'Mantido na Fase atual', None, None\n",
      "$ PONTO_VIRADA_2021             <str> 'Não', None, 'Não', None, 'Não', None, None, 'Não', None, None\n",
      "$ IPV_2021                      <f64> 8.1, None, 7.2, None, 7.4, None, None, 8.5, None, None\n",
      "$ IAN_2021                      <f64> 5.0, None, 10.0, None, 10.0, None, None, 10.0, None, None\n",
      "$ NIVEL_IDEAL_2021              <str> 'Nível 3 (7o e 8o ano)', None, 'Nível 3 (7o e 8o ano)', None, 'Nível 2 (5o e 6o ano)', None, None, 'Nível 5 (1o EM)', None, None\n",
      "$ DEFASAGEM_2021                <f64> -1.0, None, 0.0, None, 0.0, None, None, 0.0, None, None\n",
      "$ FASE_2022                     <f64> None, 0.0, None, 2.0, 2.0, 2.0, 1.0, 5.0, 0.0, None\n",
      "$ TURMA_2022                    <str> None, 'K', None, 'J', 'L', 'K', 'U', 'K', 'Z', None\n",
      "$ ANO_INGRESSO_2022             <f64> None, 2022.0, None, 2022.0, 2019.0, 2022.0, 2022.0, 2017.0, 2022.0, None\n",
      "$ BOLSISTA_2022                 <str> None, 'Não', None, 'Não', 'Não', 'Não', 'Não', 'Sim', 'Não', None\n",
      "$ INDE_2022                     <f64> None, 7.675509353106849, None, 7.117065047619048, 7.232336307992202, 7.741668666666667, 7.406743477025898, 7.289795442501942, 5.665746204655248, None\n",
      "$ CG_2022                       <f64> None, 245.0, None, 451.0, 415.0, 221.0, 357.0, 397.0, 767.0, None\n",
      "$ CF_2022                       <f64> None, 66.0, None, 69.0, 61.0, 35.0, 93.0, 26.0, 184.0, None\n",
      "$ CT_2022                       <f64> None, 6.0, None, 3.0, 12.0, 2.0, 7.0, 6.0, 9.0, None\n",
      "$ PEDRA_2022                    <str> None, 'Ametista', None, 'Ametista', 'Ametista', 'Ametista', 'Ametista', 'Ametista', 'Quartzo', None\n",
      "$ DESTAQUE_IEG_2022             <str> None, 'Destaque: A sua boa entrega das lições de casa.', None, 'Destaque: A sua boa entrega das lições de casa.', 'Destaque: A sua boa entrega das lições de casa.', 'Destaque: A sua boa entrega das lições de casa.', 'Destaque: A sua boa entrega das lições de casa.', 'Destaque: A sua boa entrega das lições de casa.', 'Melhorar: Melhorar a sua entrega de lições de casa.', None\n",
      "$ DESTAQUE_IDA_2022             <str> None, 'Destaque: As suas boas notas na Passos Mágicos.', None, 'Melhorar: Empenhar-se mais nas aulas e avaliações.', 'Melhorar: Empenhar-se mais nas aulas e avaliações.', 'Melhorar: Empenhar-se mais nas aulas e avaliações.', 'Melhorar: Empenhar-se mais nas aulas e avaliações.', 'Melhorar: Empenhar-se mais nas aulas e avaliações.', 'Melhorar: Empenhar-se mais nas aulas e avaliações.', None\n",
      "$ DESTAQUE_IPV_2022             <str> None, 'Destaque: A sua boa integração aos Princípios Passos Mágicos.', None, 'Destaque: A sua boa integração aos Princípios Passos Mágicos.', 'Destaque: A sua boa integração aos Princípios Passos Mágicos.', 'Destaque: A sua boa integração aos Princípios Passos Mágicos.', 'Destaque: A sua boa integração aos Princípios Passos Mágicos.', 'Destaque: A sua boa integração aos Princípios Passos Mágicos.', 'Melhorar: Integrar-se mais aos Princípios Passos Mágicos.', None\n",
      "$ IAA_2022                      <f64> None, 10.00002, None, 10.00002, 6.41668, 9.000020000000001, 10.00002, 9.16668, 9.000020000000001, None\n",
      "$ IEG_2022                      <f64> None, 7.58170509886757, None, 8.071428571428571, 8.557504873294347, 9.333333333333332, 9.314954051796157, 8.268065268065268, 6.820377689942907, None\n",
      "$ IPS_2022                      <f64> None, 7.5, None, 7.5, 7.5, 7.5, 7.5, 5.0, 5.0, None\n",
      "$ IDA_2022                      <f64> None, 8.816666666666666, None, 5.083333333333334, 7.083333333333334, 5.5, 5.583333333333334, 7.144444444444445, 2.133333333333333, None\n",
      "$ NOTA_PORT_2022                <f64> None, 8.200000000000001, None, 5.0, 6.666666666666667, 3.0, 4.666666666666667, 6.5, 2.466666666666667, None\n",
      "$ NOTA_MAT_2022                 <f64> None, 9.433333333333334, None, 5.166666666666667, 7.5, 8.0, 6.5, 7.666666666666667, 1.8, None\n",
      "$ NOTA_ING_2022                 <f64> None, None, None, None, None, None, None, 7.266666666666667, None, None\n",
      "$ QTD_AVAL_2022                 <f64> None, 2.0, None, 3.0, 3.0, 3.0, 2.0, 4.0, 2.0, None\n",
      "$ IPP_2022                      <f64> None, 5.625, None, 6.25, 6.458333333333334, 6.25, 5.9375, 7.65625, 3.75, None\n",
      "$ REC_AVA_1_2022                <str> None, 'Mantido na Fase + Bolsa', None, 'Promovido de Fase', 'Mantido na Fase atual', 'Mantido na Fase atual', 'Promovido de Fase', 'Promovido de Fase + Bolsa', 'Mantido na Fase atual', None\n",
      "$ REC_AVA_2_2022                <str> None, 'Mantido na Fase atual', None, 'Mantido na Fase atual', 'Promovido de Fase', 'Promovido de Fase', 'Promovido de Fase', 'Mantido na Fase atual', 'Mantido na Fase atual', None\n",
      "$ REC_AVA_3_2022                <str> None, None, None, 'Promovido de Fase', 'Mantido na Fase atual', 'Mantido na Fase atual', None, 'Promovido de Fase + Bolsa', None, None\n",
      "$ REC_AVA_4_2022                <str> None, None, None, None, None, None, None, 'Promovido de Fase', None, None\n",
      "$ INDICADO_BOLSA_2022           <str> None, 'Sim', None, 'Não', 'Não', 'Não', 'Não', 'Não', 'Não', None\n",
      "$ PONTO_VIRADA_2022             <str> None, 'Não', None, 'Não', 'Não', 'Não', 'Não', 'Não', 'Não', None\n",
      "$ IPV_2022                      <f64> None, 7.916665, None, 8.055553333333334, 7.833336666666667, 7.5, 7.91667, 7.6250025, 5.50001, None\n",
      "$ IAN_2022                      <f64> None, 5.0, None, 5.0, 5.0, 10.0, 5.0, 5.0, 10.0, None\n",
      "$ NIVEL_IDEAL_2022              <str> None, 'Fase 2 (5º e 6º ano)', None, 'Fase 3 (7º e 8º ano)', 'Fase 3 (7º e 8º ano)', 'Fase 2 (5º e 6º ano)', 'Fase 2 (5º e 6º ano)', 'Fase 6 (2º EM)', 'ALFA  (2º e 3º ano)', None\n",
      "\n"
     ]
    }
   ],
   "source": [
    "df_pl.glimpse()\n"
   ]
  },
  {
   "cell_type": "code",
   "execution_count": null,
   "id": "ded7085b-74fc-4c02-9b12-53bc8caa41c5",
   "metadata": {},
   "outputs": [
    {
     "data": {
      "text/plain": [
       "Schema([('INSTITUICAO_ENSINO_ALUNO_2020', String),\n",
       "        ('NOME', String),\n",
       "        ('IDADE_ALUNO_2020', String),\n",
       "        ('ANOS_PM_2020', String),\n",
       "        ('FASE_TURMA_2020', String),\n",
       "        ('PONTO_VIRADA_2020', String),\n",
       "        ('INDE_2020', String),\n",
       "        ('INDE_CONCEITO_2020', String),\n",
       "        ('PEDRA_2020', String),\n",
       "        ('DESTAQUE_IEG_2020', String),\n",
       "        ('DESTAQUE_IDA_2020', String),\n",
       "        ('DESTAQUE_IPV_2020', String),\n",
       "        ('IAA_2020', String),\n",
       "        ('IEG_2020', String),\n",
       "        ('IPS_2020', String),\n",
       "        ('IDA_2020', String),\n",
       "        ('IPP_2020', String),\n",
       "        ('IPV_2020', String),\n",
       "        ('IAN_2020', String),\n",
       "        ('FASE_2021', Float64),\n",
       "        ('TURMA_2021', String),\n",
       "        ('INSTITUICAO_ENSINO_ALUNO_2021', String),\n",
       "        ('SINALIZADOR_INGRESSANTE_2021', String),\n",
       "        ('PEDRA_2021', String),\n",
       "        ('INDE_2021', String),\n",
       "        ('IAA_2021', Float64),\n",
       "        ('IEG_2021', Float64),\n",
       "        ('IPS_2021', Float64),\n",
       "        ('IDA_2021', Float64),\n",
       "        ('IPP_2021', Float64),\n",
       "        ('REC_EQUIPE_1_2021', String),\n",
       "        ('REC_EQUIPE_2_2021', String),\n",
       "        ('REC_EQUIPE_3_2021', String),\n",
       "        ('REC_EQUIPE_4_2021', String),\n",
       "        ('PONTO_VIRADA_2021', String),\n",
       "        ('IPV_2021', Float64),\n",
       "        ('IAN_2021', Float64),\n",
       "        ('NIVEL_IDEAL_2021', String),\n",
       "        ('DEFASAGEM_2021', Float64),\n",
       "        ('FASE_2022', Float64),\n",
       "        ('TURMA_2022', String),\n",
       "        ('ANO_INGRESSO_2022', Float64),\n",
       "        ('BOLSISTA_2022', String),\n",
       "        ('INDE_2022', Float64),\n",
       "        ('CG_2022', Float64),\n",
       "        ('CF_2022', Float64),\n",
       "        ('CT_2022', Float64),\n",
       "        ('PEDRA_2022', String),\n",
       "        ('DESTAQUE_IEG_2022', String),\n",
       "        ('DESTAQUE_IDA_2022', String),\n",
       "        ('DESTAQUE_IPV_2022', String),\n",
       "        ('IAA_2022', Float64),\n",
       "        ('IEG_2022', Float64),\n",
       "        ('IPS_2022', Float64),\n",
       "        ('IDA_2022', Float64),\n",
       "        ('NOTA_PORT_2022', Float64),\n",
       "        ('NOTA_MAT_2022', Float64),\n",
       "        ('NOTA_ING_2022', Float64),\n",
       "        ('QTD_AVAL_2022', Float64),\n",
       "        ('IPP_2022', Float64),\n",
       "        ('REC_AVA_1_2022', String),\n",
       "        ('REC_AVA_2_2022', String),\n",
       "        ('REC_AVA_3_2022', String),\n",
       "        ('REC_AVA_4_2022', String),\n",
       "        ('INDICADO_BOLSA_2022', String),\n",
       "        ('PONTO_VIRADA_2022', String),\n",
       "        ('IPV_2022', Float64),\n",
       "        ('IAN_2022', Float64),\n",
       "        ('NIVEL_IDEAL_2022', String)])"
      ]
     },
     "execution_count": 29,
     "metadata": {},
     "output_type": "execute_result"
    }
   ],
   "source": [
    "df_pl.schema\n"
   ]
  },
  {
   "cell_type": "markdown",
   "id": "3e271de7-61df-4eb8-ac17-5ad871f419fa",
   "metadata": {},
   "source": [
    "## Corrige tipos das colunas"
   ]
  },
  {
   "cell_type": "code",
   "execution_count": null,
   "id": "244dbd7b-acc6-40fd-8d94-95fe548d75a6",
   "metadata": {},
   "outputs": [],
   "source": [
    "# índices devem ser do tipo float\n"
   ]
  },
  {
   "cell_type": "markdown",
   "id": "a3a4fa6a-ecc5-4efd-a9a8-abacada75255",
   "metadata": {},
   "source": [
    "## Separa os dataframes por ano e atribui uma coluna para marcar o ano"
   ]
  },
  {
   "cell_type": "code",
   "execution_count": null,
   "id": "e0e42f69-8016-4e3d-8983-e56cf24364c1",
   "metadata": {},
   "outputs": [
    {
     "data": {
      "text/plain": [
       "[shape: (1_349, 20)\n",
       " ┌──────┬────────────┬─────────────┬─────────────┬───┬─────────────┬────────────┬────────────┬──────┐\n",
       " │ ANO  ┆ NOME       ┆ INSTITUICAO ┆ IDADE_ALUNO ┆ … ┆ IDA         ┆ IPP        ┆ IPV        ┆ IAN  │\n",
       " │ ---  ┆ ---        ┆ _ENSINO_ALU ┆ ---         ┆   ┆ ---         ┆ ---        ┆ ---        ┆ ---  │\n",
       " │ i32  ┆ str        ┆ NO          ┆ str         ┆   ┆ str         ┆ str        ┆ str        ┆ str  │\n",
       " │      ┆            ┆ ---         ┆             ┆   ┆             ┆            ┆            ┆      │\n",
       " │      ┆            ┆ str         ┆             ┆   ┆             ┆            ┆            ┆      │\n",
       " ╞══════╪════════════╪═════════════╪═════════════╪═══╪═════════════╪════════════╪════════════╪══════╡\n",
       " │ 2020 ┆ ALUNO-1    ┆ Escola      ┆ 11          ┆ … ┆ 7           ┆ 5.9375     ┆ 7.75       ┆ 10   │\n",
       " │      ┆            ┆ Pública     ┆             ┆   ┆             ┆            ┆            ┆      │\n",
       " │ 2020 ┆ ALUNO-2    ┆ null        ┆ null        ┆ … ┆ null        ┆ null       ┆ null       ┆ null │\n",
       " │ 2020 ┆ ALUNO-3    ┆ Escola      ┆ 12          ┆ … ┆ 5.5         ┆ 8.125      ┆ 8.11111333 ┆ 10   │\n",
       " │      ┆            ┆ Pública     ┆             ┆   ┆             ┆            ┆ 3333334    ┆      │\n",
       " │ 2020 ┆ ALUNO-4    ┆ Escola      ┆ 10          ┆ … ┆ 0           ┆ 7.1875     ┆ 7.75       ┆ 5    │\n",
       " │      ┆            ┆ Pública     ┆             ┆   ┆             ┆            ┆            ┆      │\n",
       " │ 2020 ┆ ALUNO-5    ┆ Escola      ┆ 10          ┆ … ┆ 7.5         ┆ 8.4375     ┆ 8.166665   ┆ 10   │\n",
       " │      ┆            ┆ Pública     ┆             ┆   ┆             ┆            ┆            ┆      │\n",
       " │ …    ┆ …          ┆ …           ┆ …           ┆ … ┆ …           ┆ …          ┆ …          ┆ …    │\n",
       " │ 2020 ┆ ALUNO-1345 ┆ null        ┆ null        ┆ … ┆ null        ┆ null       ┆ null       ┆ null │\n",
       " │ 2020 ┆ ALUNO-1346 ┆ null        ┆ null        ┆ … ┆ null        ┆ null       ┆ null       ┆ null │\n",
       " │ 2020 ┆ ALUNO-1347 ┆ Escola      ┆ 17          ┆ … ┆ 4.666666666 ┆ 7.34375    ┆ 6.333335   ┆ 10   │\n",
       " │      ┆            ┆ Pública     ┆             ┆   ┆ 666667      ┆            ┆            ┆      │\n",
       " │ 2020 ┆ ALUNO-1348 ┆ Escola      ┆ 13          ┆ … ┆ 6.333333333 ┆ 8.54166666 ┆ 9.11112    ┆ 10   │\n",
       " │      ┆            ┆ Pública     ┆             ┆   ┆ 333333      ┆ 6666666    ┆            ┆      │\n",
       " │ 2020 ┆ ALUNO-1349 ┆ null        ┆ null        ┆ … ┆ null        ┆ null       ┆ null       ┆ null │\n",
       " └──────┴────────────┴─────────────┴─────────────┴───┴─────────────┴────────────┴────────────┴──────┘,\n",
       " shape: (1_349, 22)\n",
       " ┌──────┬────────────┬──────┬───────┬───┬──────┬──────┬───────────────────────┬───────────┐\n",
       " │ ANO  ┆ NOME       ┆ FASE ┆ TURMA ┆ … ┆ IPV  ┆ IAN  ┆ NIVEL_IDEAL           ┆ DEFASAGEM │\n",
       " │ ---  ┆ ---        ┆ ---  ┆ ---   ┆   ┆ ---  ┆ ---  ┆ ---                   ┆ ---       │\n",
       " │ i32  ┆ str        ┆ f64  ┆ str   ┆   ┆ f64  ┆ f64  ┆ str                   ┆ f64       │\n",
       " ╞══════╪════════════╪══════╪═══════╪═══╪══════╪══════╪═══════════════════════╪═══════════╡\n",
       " │ 2021 ┆ ALUNO-1    ┆ 2.0  ┆ G     ┆ … ┆ 8.1  ┆ 5.0  ┆ Nível 3 (7o e 8o ano) ┆ -1.0      │\n",
       " │ 2021 ┆ ALUNO-2    ┆ null ┆ null  ┆ … ┆ null ┆ null ┆ null                  ┆ null      │\n",
       " │ 2021 ┆ ALUNO-3    ┆ 3.0  ┆ F     ┆ … ┆ 7.2  ┆ 10.0 ┆ Nível 3 (7o e 8o ano) ┆ 0.0       │\n",
       " │ 2021 ┆ ALUNO-4    ┆ null ┆ null  ┆ … ┆ null ┆ null ┆ null                  ┆ null      │\n",
       " │ 2021 ┆ ALUNO-5    ┆ 2.0  ┆ L     ┆ … ┆ 7.4  ┆ 10.0 ┆ Nível 2 (5o e 6o ano) ┆ 0.0       │\n",
       " │ …    ┆ …          ┆ …    ┆ …     ┆ … ┆ …    ┆ …    ┆ …                     ┆ …         │\n",
       " │ 2021 ┆ ALUNO-1345 ┆ 0.0  ┆ L     ┆ … ┆ 7.1  ┆ 5.0  ┆ Nível 1 (4o ano)      ┆ -1.0      │\n",
       " │ 2021 ┆ ALUNO-1346 ┆ null ┆ null  ┆ … ┆ null ┆ null ┆ null                  ┆ null      │\n",
       " │ 2021 ┆ ALUNO-1347 ┆ null ┆ null  ┆ … ┆ null ┆ null ┆ null                  ┆ null      │\n",
       " │ 2021 ┆ ALUNO-1348 ┆ 3.0  ┆ J     ┆ … ┆ 8.5  ┆ 5.0  ┆ Nível 4 (9o ano)      ┆ -1.0      │\n",
       " │ 2021 ┆ ALUNO-1349 ┆ null ┆ null  ┆ … ┆ null ┆ null ┆ null                  ┆ null      │\n",
       " └──────┴────────────┴──────┴───────┴───┴──────┴──────┴───────────────────────┴───────────┘,\n",
       " shape: (1_349, 32)\n",
       " ┌──────┬────────────┬──────┬───────┬───┬──────────────┬───────────┬──────┬──────────────────────┐\n",
       " │ ANO  ┆ NOME       ┆ FASE ┆ TURMA ┆ … ┆ PONTO_VIRADA ┆ IPV       ┆ IAN  ┆ NIVEL_IDEAL          │\n",
       " │ ---  ┆ ---        ┆ ---  ┆ ---   ┆   ┆ ---          ┆ ---       ┆ ---  ┆ ---                  │\n",
       " │ i32  ┆ str        ┆ f64  ┆ str   ┆   ┆ str          ┆ f64       ┆ f64  ┆ str                  │\n",
       " ╞══════╪════════════╪══════╪═══════╪═══╪══════════════╪═══════════╪══════╪══════════════════════╡\n",
       " │ 2022 ┆ ALUNO-1    ┆ null ┆ null  ┆ … ┆ null         ┆ null      ┆ null ┆ null                 │\n",
       " │ 2022 ┆ ALUNO-2    ┆ 0.0  ┆ K     ┆ … ┆ Não          ┆ 7.916665  ┆ 5.0  ┆ Fase 2 (5º e 6º ano) │\n",
       " │ 2022 ┆ ALUNO-3    ┆ null ┆ null  ┆ … ┆ null         ┆ null      ┆ null ┆ null                 │\n",
       " │ 2022 ┆ ALUNO-4    ┆ 2.0  ┆ J     ┆ … ┆ Não          ┆ 8.055553  ┆ 5.0  ┆ Fase 3 (7º e 8º ano) │\n",
       " │ 2022 ┆ ALUNO-5    ┆ 2.0  ┆ L     ┆ … ┆ Não          ┆ 7.833337  ┆ 5.0  ┆ Fase 3 (7º e 8º ano) │\n",
       " │ …    ┆ …          ┆ …    ┆ …     ┆ … ┆ …            ┆ …         ┆ …    ┆ …                    │\n",
       " │ 2022 ┆ ALUNO-1345 ┆ null ┆ null  ┆ … ┆ null         ┆ null      ┆ null ┆ null                 │\n",
       " │ 2022 ┆ ALUNO-1346 ┆ 0.0  ┆ U     ┆ … ┆ Sim          ┆ 9.08334   ┆ 5.0  ┆ Fase 1 (4º ano)      │\n",
       " │ 2022 ┆ ALUNO-1347 ┆ null ┆ null  ┆ … ┆ null         ┆ null      ┆ null ┆ null                 │\n",
       " │ 2022 ┆ ALUNO-1348 ┆ 4.0  ┆ P     ┆ … ┆ Não          ┆ 5.8333275 ┆ 5.0  ┆ Fase 5 (1º EM)       │\n",
       " │ 2022 ┆ ALUNO-1349 ┆ 3.0  ┆ M     ┆ … ┆ Não          ┆ 5.9999925 ┆ 5.0  ┆ Fase 5 (1º EM)       │\n",
       " └──────┴────────────┴──────┴───────┴───┴──────────────┴───────────┴──────┴──────────────────────┘]"
      ]
     },
     "execution_count": 184,
     "metadata": {},
     "output_type": "execute_result"
    }
   ],
   "source": [
    "dfs = []\n",
    "for y in [\"2020\", \"2021\", \"2022\"]:\n",
    "    df_new = (\n",
    "        ((df_pl.select([\"NOME\", cs.matches(y)]).with_columns(pl.select(cs.matches(y)))))\n",
    "        .select(pl.all())\n",
    "        .rename(lambda c: re.sub(r\"_\\d+$\", \"\", c))\n",
    "    )\n",
    "    df_new.insert_column(\n",
    "        0, pl.Series(\"ANO\", pl.repeat(y, n=len(df_new), dtype=pl.Int32, eager=True))\n",
    "    )\n",
    "\n",
    "    dfs.append(df_new)\n",
    "\n",
    "dfs\n"
   ]
  },
  {
   "cell_type": "markdown",
   "id": "27dff18d-0461-4159-8d7f-875d3a7cdf84",
   "metadata": {},
   "source": [
    "## Realiza o empilhamento somente nas colunas coincidentes para uma primeira análise"
   ]
  },
  {
   "cell_type": "code",
   "execution_count": null,
   "id": "b1fbd0ef-f6c1-4da1-96f8-c85804b4d425",
   "metadata": {},
   "outputs": [
    {
     "name": "stdout",
     "output_type": "stream",
     "text": [
      "Schema([('ANO', Int32), ('NOME', String), ('INSTITUICAO_ENSINO_ALUNO', String), ('IDADE_ALUNO', String), ('ANOS_PM', String), ('FASE_TURMA', String), ('PONTO_VIRADA', String), ('INDE', String), ('INDE_CONCEITO', String), ('PEDRA', String), ('DESTAQUE_IEG', String), ('DESTAQUE_IDA', String), ('DESTAQUE_IPV', String), ('IAA', String), ('IEG', String), ('IPS', String), ('IDA', String), ('IPP', String), ('IPV', String), ('IAN', String)])\n",
      "\n",
      "Schema([('ANO', Int32), ('NOME', String), ('FASE', Float64), ('TURMA', String), ('INSTITUICAO_ENSINO_ALUNO', String), ('SINALIZADOR_INGRESSANTE', String), ('PEDRA', String), ('INDE', String), ('IAA', Float64), ('IEG', Float64), ('IPS', Float64), ('IDA', Float64), ('IPP', Float64), ('REC_EQUIPE_1', String), ('REC_EQUIPE_2', String), ('REC_EQUIPE_3', String), ('REC_EQUIPE_4', String), ('PONTO_VIRADA', String), ('IPV', Float64), ('IAN', Float64), ('NIVEL_IDEAL', String), ('DEFASAGEM', Float64)])\n",
      "\n",
      "Schema([('ANO', Int32), ('NOME', String), ('FASE', Float64), ('TURMA', String), ('ANO_INGRESSO', Float64), ('BOLSISTA', String), ('INDE', Float64), ('CG', Float64), ('CF', Float64), ('CT', Float64), ('PEDRA', String), ('DESTAQUE_IEG', String), ('DESTAQUE_IDA', String), ('DESTAQUE_IPV', String), ('IAA', Float64), ('IEG', Float64), ('IPS', Float64), ('IDA', Float64), ('NOTA_PORT', Float64), ('NOTA_MAT', Float64), ('NOTA_ING', Float64), ('QTD_AVAL', Float64), ('IPP', Float64), ('REC_AVA_1', String), ('REC_AVA_2', String), ('REC_AVA_3', String), ('REC_AVA_4', String), ('INDICADO_BOLSA', String), ('PONTO_VIRADA', String), ('IPV', Float64), ('IAN', Float64), ('NIVEL_IDEAL', String)])\n",
      "\n"
     ]
    },
    {
     "data": {
      "text/plain": [
       "[None, None, None]"
      ]
     },
     "execution_count": 199,
     "metadata": {},
     "output_type": "execute_result"
    }
   ],
   "source": [
    "[print(f\"{df.schema}\\n\") for df in dfs]\n"
   ]
  },
  {
   "cell_type": "code",
   "execution_count": 202,
   "id": "62a45ed4-32c4-4a67-831b-104c098a8dfa",
   "metadata": {},
   "outputs": [
    {
     "data": {
      "text/html": [
       "<div><style>\n",
       ".dataframe > thead > tr,\n",
       ".dataframe > tbody > tr {\n",
       "  text-align: right;\n",
       "  white-space: pre-wrap;\n",
       "}\n",
       "</style>\n",
       "<small>shape: (1_349, 20)</small><table border=\"1\" class=\"dataframe\"><thead><tr><th>ANO</th><th>NOME</th><th>INSTITUICAO_ENSINO_ALUNO</th><th>IDADE_ALUNO</th><th>ANOS_PM</th><th>FASE_TURMA</th><th>PONTO_VIRADA</th><th>INDE</th><th>INDE_CONCEITO</th><th>PEDRA</th><th>DESTAQUE_IEG</th><th>DESTAQUE_IDA</th><th>DESTAQUE_IPV</th><th>IAA</th><th>IEG</th><th>IPS</th><th>IDA</th><th>IPP</th><th>IPV</th><th>IAN</th></tr><tr><td>i32</td><td>str</td><td>str</td><td>str</td><td>str</td><td>str</td><td>str</td><td>str</td><td>str</td><td>str</td><td>str</td><td>str</td><td>str</td><td>f64</td><td>str</td><td>str</td><td>str</td><td>str</td><td>str</td><td>str</td></tr></thead><tbody><tr><td>2020</td><td>&quot;ALUNO-1&quot;</td><td>&quot;Escola Pública&quot;</td><td>&quot;11&quot;</td><td>&quot;2&quot;</td><td>&quot;2H&quot;</td><td>&quot;Não&quot;</td><td>&quot;7.883752&quot;</td><td>&quot;B&quot;</td><td>&quot;Ametista&quot;</td><td>&quot;Seu destaque em 2020: A sua bo…</td><td>&quot;Ponto a melhorar em 2021: Empe…</td><td>&quot;Seu destaque em 2020: A sua bo…</td><td>8.50002</td><td>&quot;8.7&quot;</td><td>&quot;7.5&quot;</td><td>&quot;7&quot;</td><td>&quot;5.9375&quot;</td><td>&quot;7.75&quot;</td><td>&quot;10&quot;</td></tr><tr><td>2020</td><td>&quot;ALUNO-2&quot;</td><td>null</td><td>null</td><td>null</td><td>null</td><td>null</td><td>null</td><td>null</td><td>null</td><td>null</td><td>null</td><td>null</td><td>null</td><td>null</td><td>null</td><td>null</td><td>null</td><td>null</td><td>null</td></tr><tr><td>2020</td><td>&quot;ALUNO-3&quot;</td><td>&quot;Escola Pública&quot;</td><td>&quot;12&quot;</td><td>&quot;2&quot;</td><td>&quot;3H&quot;</td><td>&quot;Não&quot;</td><td>&quot;7.856389666666666&quot;</td><td>&quot;B&quot;</td><td>&quot;Ametista&quot;</td><td>&quot;Seu destaque em 2020: A sua bo…</td><td>&quot;Ponto a melhorar em 2021: Empe…</td><td>&quot;Seu destaque em 2020: A sua bo…</td><td>7.91667</td><td>&quot;8.9&quot;</td><td>&quot;7.5&quot;</td><td>&quot;5.5&quot;</td><td>&quot;8.125&quot;</td><td>&quot;8.111113333333334&quot;</td><td>&quot;10&quot;</td></tr><tr><td>2020</td><td>&quot;ALUNO-4&quot;</td><td>&quot;Escola Pública&quot;</td><td>&quot;10&quot;</td><td>&quot;2&quot;</td><td>&quot;1D&quot;</td><td>&quot;Não&quot;</td><td>&quot;5.076252&quot;</td><td>&quot;D&quot;</td><td>&quot;Quartzo&quot;</td><td>&quot;Ponto a melhorar em 2021: Melh…</td><td>&quot;Ponto a melhorar em 2021: Empe…</td><td>&quot;Ponto a melhorar em 2021: Inte…</td><td>8.00002</td><td>&quot;4.1&quot;</td><td>&quot;6.875&quot;</td><td>&quot;0&quot;</td><td>&quot;7.1875&quot;</td><td>&quot;7.75&quot;</td><td>&quot;5&quot;</td></tr><tr><td>2020</td><td>&quot;ALUNO-5&quot;</td><td>&quot;Escola Pública&quot;</td><td>&quot;10&quot;</td><td>&quot;1&quot;</td><td>&quot;2M&quot;</td><td>&quot;Não&quot;</td><td>&quot;8.077085&quot;</td><td>&quot;B&quot;</td><td>&quot;Ametista&quot;</td><td>&quot;Seu destaque em 2020: A sua bo…</td><td>&quot;Seu destaque em 2020: As suas …</td><td>&quot;Seu destaque em 2020: A sua bo…</td><td>7.50002</td><td>&quot;8&quot;</td><td>&quot;7.5&quot;</td><td>&quot;7.5&quot;</td><td>&quot;8.4375&quot;</td><td>&quot;8.166665&quot;</td><td>&quot;10&quot;</td></tr><tr><td>&hellip;</td><td>&hellip;</td><td>&hellip;</td><td>&hellip;</td><td>&hellip;</td><td>&hellip;</td><td>&hellip;</td><td>&hellip;</td><td>&hellip;</td><td>&hellip;</td><td>&hellip;</td><td>&hellip;</td><td>&hellip;</td><td>&hellip;</td><td>&hellip;</td><td>&hellip;</td><td>&hellip;</td><td>&hellip;</td><td>&hellip;</td><td>&hellip;</td></tr><tr><td>2020</td><td>&quot;ALUNO-1345&quot;</td><td>null</td><td>null</td><td>null</td><td>null</td><td>null</td><td>null</td><td>null</td><td>null</td><td>null</td><td>null</td><td>null</td><td>null</td><td>null</td><td>null</td><td>null</td><td>null</td><td>null</td><td>null</td></tr><tr><td>2020</td><td>&quot;ALUNO-1346&quot;</td><td>null</td><td>null</td><td>null</td><td>null</td><td>null</td><td>null</td><td>null</td><td>null</td><td>null</td><td>null</td><td>null</td><td>null</td><td>null</td><td>null</td><td>null</td><td>null</td><td>null</td><td>null</td></tr><tr><td>2020</td><td>&quot;ALUNO-1347&quot;</td><td>&quot;Escola Pública&quot;</td><td>&quot;17&quot;</td><td>&quot;1&quot;</td><td>&quot;7B&quot;</td><td>&quot;Não&quot;</td><td>&quot;7.158543333333334&quot;</td><td>&quot;C&quot;</td><td>&quot;Ágata&quot;</td><td>&quot;Seu destaque em 2020: A sua bo…</td><td>&quot;Ponto a melhorar em 2021: Empe…</td><td>&quot;Seu destaque em 2020: A sua bo…</td><td>9.16668</td><td>&quot;8.1&quot;</td><td>&quot;6.875&quot;</td><td>&quot;4.666666666666667&quot;</td><td>&quot;7.34375&quot;</td><td>&quot;6.333335&quot;</td><td>&quot;10&quot;</td></tr><tr><td>2020</td><td>&quot;ALUNO-1348&quot;</td><td>&quot;Escola Pública&quot;</td><td>&quot;13&quot;</td><td>&quot;2&quot;</td><td>&quot;3R&quot;</td><td>&quot;Sim&quot;</td><td>&quot;7.842224333333333&quot;</td><td>&quot;B&quot;</td><td>&quot;Ametista&quot;</td><td>&quot;Ponto a melhorar em 2021: Melh…</td><td>&quot;Ponto a melhorar em 2021: Empe…</td><td>&quot;Seu destaque em 2020: A sua bo…</td><td>7.91667</td><td>&quot;7.1&quot;</td><td>&quot;6.875&quot;</td><td>&quot;6.333333333333333&quot;</td><td>&quot;8.541666666666666&quot;</td><td>&quot;9.11112&quot;</td><td>&quot;10&quot;</td></tr><tr><td>2020</td><td>&quot;ALUNO-1349&quot;</td><td>null</td><td>null</td><td>null</td><td>null</td><td>null</td><td>null</td><td>null</td><td>null</td><td>null</td><td>null</td><td>null</td><td>null</td><td>null</td><td>null</td><td>null</td><td>null</td><td>null</td><td>null</td></tr></tbody></table></div>"
      ],
      "text/plain": [
       "shape: (1_349, 20)\n",
       "┌──────┬────────────┬─────────────┬─────────────┬───┬─────────────┬────────────┬────────────┬──────┐\n",
       "│ ANO  ┆ NOME       ┆ INSTITUICAO ┆ IDADE_ALUNO ┆ … ┆ IDA         ┆ IPP        ┆ IPV        ┆ IAN  │\n",
       "│ ---  ┆ ---        ┆ _ENSINO_ALU ┆ ---         ┆   ┆ ---         ┆ ---        ┆ ---        ┆ ---  │\n",
       "│ i32  ┆ str        ┆ NO          ┆ str         ┆   ┆ str         ┆ str        ┆ str        ┆ str  │\n",
       "│      ┆            ┆ ---         ┆             ┆   ┆             ┆            ┆            ┆      │\n",
       "│      ┆            ┆ str         ┆             ┆   ┆             ┆            ┆            ┆      │\n",
       "╞══════╪════════════╪═════════════╪═════════════╪═══╪═════════════╪════════════╪════════════╪══════╡\n",
       "│ 2020 ┆ ALUNO-1    ┆ Escola      ┆ 11          ┆ … ┆ 7           ┆ 5.9375     ┆ 7.75       ┆ 10   │\n",
       "│      ┆            ┆ Pública     ┆             ┆   ┆             ┆            ┆            ┆      │\n",
       "│ 2020 ┆ ALUNO-2    ┆ null        ┆ null        ┆ … ┆ null        ┆ null       ┆ null       ┆ null │\n",
       "│ 2020 ┆ ALUNO-3    ┆ Escola      ┆ 12          ┆ … ┆ 5.5         ┆ 8.125      ┆ 8.11111333 ┆ 10   │\n",
       "│      ┆            ┆ Pública     ┆             ┆   ┆             ┆            ┆ 3333334    ┆      │\n",
       "│ 2020 ┆ ALUNO-4    ┆ Escola      ┆ 10          ┆ … ┆ 0           ┆ 7.1875     ┆ 7.75       ┆ 5    │\n",
       "│      ┆            ┆ Pública     ┆             ┆   ┆             ┆            ┆            ┆      │\n",
       "│ 2020 ┆ ALUNO-5    ┆ Escola      ┆ 10          ┆ … ┆ 7.5         ┆ 8.4375     ┆ 8.166665   ┆ 10   │\n",
       "│      ┆            ┆ Pública     ┆             ┆   ┆             ┆            ┆            ┆      │\n",
       "│ …    ┆ …          ┆ …           ┆ …           ┆ … ┆ …           ┆ …          ┆ …          ┆ …    │\n",
       "│ 2020 ┆ ALUNO-1345 ┆ null        ┆ null        ┆ … ┆ null        ┆ null       ┆ null       ┆ null │\n",
       "│ 2020 ┆ ALUNO-1346 ┆ null        ┆ null        ┆ … ┆ null        ┆ null       ┆ null       ┆ null │\n",
       "│ 2020 ┆ ALUNO-1347 ┆ Escola      ┆ 17          ┆ … ┆ 4.666666666 ┆ 7.34375    ┆ 6.333335   ┆ 10   │\n",
       "│      ┆            ┆ Pública     ┆             ┆   ┆ 666667      ┆            ┆            ┆      │\n",
       "│ 2020 ┆ ALUNO-1348 ┆ Escola      ┆ 13          ┆ … ┆ 6.333333333 ┆ 8.54166666 ┆ 9.11112    ┆ 10   │\n",
       "│      ┆            ┆ Pública     ┆             ┆   ┆ 333333      ┆ 6666666    ┆            ┆      │\n",
       "│ 2020 ┆ ALUNO-1349 ┆ null        ┆ null        ┆ … ┆ null        ┆ null       ┆ null       ┆ null │\n",
       "└──────┴────────────┴─────────────┴─────────────┴───┴─────────────┴────────────┴────────────┴──────┘"
      ]
     },
     "execution_count": 202,
     "metadata": {},
     "output_type": "execute_result"
    }
   ],
   "source": [
    "dfs[0].with_columns(pl.col(\"IAA\").cast(pl.Float64, strict=False))\n"
   ]
  },
  {
   "cell_type": "code",
   "execution_count": 194,
   "id": "e2d46272-3e6a-461d-81e0-be1a7a3bc642",
   "metadata": {},
   "outputs": [
    {
     "ename": "SchemaError",
     "evalue": "type Float64 is incompatible with expected type String",
     "output_type": "error",
     "traceback": [
      "\u001b[0;31m---------------------------------------------------------------------------\u001b[0m",
      "\u001b[0;31mSchemaError\u001b[0m                               Traceback (most recent call last)",
      "Cell \u001b[0;32mIn[194], line 1\u001b[0m\n\u001b[0;32m----> 1\u001b[0m \u001b[43mpl\u001b[49m\u001b[38;5;241;43m.\u001b[39;49m\u001b[43mconcat\u001b[49m\u001b[43m(\u001b[49m\u001b[43m[\u001b[49m\u001b[43mdfs\u001b[49m\u001b[43m[\u001b[49m\u001b[38;5;241;43m0\u001b[39;49m\u001b[43m]\u001b[49m\u001b[43m,\u001b[49m\u001b[43m \u001b[49m\u001b[43mdfs\u001b[49m\u001b[43m[\u001b[49m\u001b[38;5;241;43m1\u001b[39;49m\u001b[43m]\u001b[49m\u001b[43m]\u001b[49m\u001b[43m,\u001b[49m\u001b[43m \u001b[49m\u001b[43mhow\u001b[49m\u001b[38;5;241;43m=\u001b[39;49m\u001b[38;5;124;43m\"\u001b[39;49m\u001b[38;5;124;43mdiagonal\u001b[39;49m\u001b[38;5;124;43m\"\u001b[39;49m\u001b[43m)\u001b[49m\n",
      "File \u001b[0;32m/opt/conda/lib/python3.11/site-packages/polars/functions/eager.py:194\u001b[0m, in \u001b[0;36mconcat\u001b[0;34m(items, how, rechunk, parallel)\u001b[0m\n\u001b[1;32m    184\u001b[0m     out \u001b[38;5;241m=\u001b[39m wrap_ldf(\n\u001b[1;32m    185\u001b[0m         plr\u001b[38;5;241m.\u001b[39mconcat_lf(\n\u001b[1;32m    186\u001b[0m             [df\u001b[38;5;241m.\u001b[39mlazy() \u001b[38;5;28;01mfor\u001b[39;00m df \u001b[38;5;129;01min\u001b[39;00m elems],\n\u001b[0;32m   (...)\u001b[0m\n\u001b[1;32m    190\u001b[0m         )\n\u001b[1;32m    191\u001b[0m     )\u001b[38;5;241m.\u001b[39mcollect(no_optimization\u001b[38;5;241m=\u001b[39m\u001b[38;5;28;01mTrue\u001b[39;00m)\n\u001b[1;32m    193\u001b[0m \u001b[38;5;28;01melif\u001b[39;00m how \u001b[38;5;241m==\u001b[39m \u001b[38;5;124m\"\u001b[39m\u001b[38;5;124mdiagonal\u001b[39m\u001b[38;5;124m\"\u001b[39m:\n\u001b[0;32m--> 194\u001b[0m     out \u001b[38;5;241m=\u001b[39m wrap_df(\u001b[43mplr\u001b[49m\u001b[38;5;241;43m.\u001b[39;49m\u001b[43mconcat_df_diagonal\u001b[49m\u001b[43m(\u001b[49m\u001b[43melems\u001b[49m\u001b[43m)\u001b[49m)\n\u001b[1;32m    195\u001b[0m \u001b[38;5;28;01melif\u001b[39;00m how \u001b[38;5;241m==\u001b[39m \u001b[38;5;124m\"\u001b[39m\u001b[38;5;124mdiagonal_relaxed\u001b[39m\u001b[38;5;124m\"\u001b[39m:\n\u001b[1;32m    196\u001b[0m     out \u001b[38;5;241m=\u001b[39m wrap_ldf(\n\u001b[1;32m    197\u001b[0m         plr\u001b[38;5;241m.\u001b[39mconcat_lf_diagonal(\n\u001b[1;32m    198\u001b[0m             [df\u001b[38;5;241m.\u001b[39mlazy() \u001b[38;5;28;01mfor\u001b[39;00m df \u001b[38;5;129;01min\u001b[39;00m elems],\n\u001b[0;32m   (...)\u001b[0m\n\u001b[1;32m    202\u001b[0m         )\n\u001b[1;32m    203\u001b[0m     )\u001b[38;5;241m.\u001b[39mcollect(no_optimization\u001b[38;5;241m=\u001b[39m\u001b[38;5;28;01mTrue\u001b[39;00m)\n",
      "\u001b[0;31mSchemaError\u001b[0m: type Float64 is incompatible with expected type String"
     ]
    }
   ],
   "source": [
    "pl.concat([dfs[0], dfs[1]], how=\"diagonal\")\n"
   ]
  },
  {
   "cell_type": "code",
   "execution_count": 171,
   "id": "65d5668e-7a53-4d28-86dd-9db37917a80e",
   "metadata": {},
   "outputs": [
    {
     "data": {
      "text/html": [
       "<div><style>\n",
       ".dataframe > thead > tr,\n",
       ".dataframe > tbody > tr {\n",
       "  text-align: right;\n",
       "  white-space: pre-wrap;\n",
       "}\n",
       "</style>\n",
       "<small>shape: (5, 20)</small><table border=\"1\" class=\"dataframe\"><thead><tr><th>ANO</th><th>NOME</th><th>INSTITUICAO_ENSINO_ALUNO</th><th>IDADE_ALUNO</th><th>ANOS_PM</th><th>FASE_TURMA</th><th>PONTO_VIRADA</th><th>INDE</th><th>INDE_CONCEITO</th><th>PEDRA</th><th>DESTAQUE_IEG</th><th>DESTAQUE_IDA</th><th>DESTAQUE_IPV</th><th>IAA</th><th>IEG</th><th>IPS</th><th>IDA</th><th>IPP</th><th>IPV</th><th>IAN</th></tr><tr><td>i32</td><td>str</td><td>str</td><td>str</td><td>str</td><td>str</td><td>str</td><td>str</td><td>str</td><td>str</td><td>str</td><td>str</td><td>str</td><td>str</td><td>str</td><td>str</td><td>str</td><td>str</td><td>str</td><td>str</td></tr></thead><tbody><tr><td>2020</td><td>&quot;ALUNO-1&quot;</td><td>&quot;Escola Pública&quot;</td><td>&quot;11&quot;</td><td>&quot;2&quot;</td><td>&quot;2H&quot;</td><td>&quot;Não&quot;</td><td>&quot;7.883752&quot;</td><td>&quot;B&quot;</td><td>&quot;Ametista&quot;</td><td>&quot;Seu destaque em 2020: A sua bo…</td><td>&quot;Ponto a melhorar em 2021: Empe…</td><td>&quot;Seu destaque em 2020: A sua bo…</td><td>&quot;8.500020000000001&quot;</td><td>&quot;8.7&quot;</td><td>&quot;7.5&quot;</td><td>&quot;7&quot;</td><td>&quot;5.9375&quot;</td><td>&quot;7.75&quot;</td><td>&quot;10&quot;</td></tr><tr><td>2020</td><td>&quot;ALUNO-2&quot;</td><td>null</td><td>null</td><td>null</td><td>null</td><td>null</td><td>null</td><td>null</td><td>null</td><td>null</td><td>null</td><td>null</td><td>null</td><td>null</td><td>null</td><td>null</td><td>null</td><td>null</td><td>null</td></tr><tr><td>2020</td><td>&quot;ALUNO-3&quot;</td><td>&quot;Escola Pública&quot;</td><td>&quot;12&quot;</td><td>&quot;2&quot;</td><td>&quot;3H&quot;</td><td>&quot;Não&quot;</td><td>&quot;7.856389666666666&quot;</td><td>&quot;B&quot;</td><td>&quot;Ametista&quot;</td><td>&quot;Seu destaque em 2020: A sua bo…</td><td>&quot;Ponto a melhorar em 2021: Empe…</td><td>&quot;Seu destaque em 2020: A sua bo…</td><td>&quot;7.91667&quot;</td><td>&quot;8.9&quot;</td><td>&quot;7.5&quot;</td><td>&quot;5.5&quot;</td><td>&quot;8.125&quot;</td><td>&quot;8.111113333333334&quot;</td><td>&quot;10&quot;</td></tr><tr><td>2020</td><td>&quot;ALUNO-4&quot;</td><td>&quot;Escola Pública&quot;</td><td>&quot;10&quot;</td><td>&quot;2&quot;</td><td>&quot;1D&quot;</td><td>&quot;Não&quot;</td><td>&quot;5.076252&quot;</td><td>&quot;D&quot;</td><td>&quot;Quartzo&quot;</td><td>&quot;Ponto a melhorar em 2021: Melh…</td><td>&quot;Ponto a melhorar em 2021: Empe…</td><td>&quot;Ponto a melhorar em 2021: Inte…</td><td>&quot;8.000020000000001&quot;</td><td>&quot;4.1&quot;</td><td>&quot;6.875&quot;</td><td>&quot;0&quot;</td><td>&quot;7.1875&quot;</td><td>&quot;7.75&quot;</td><td>&quot;5&quot;</td></tr><tr><td>2020</td><td>&quot;ALUNO-5&quot;</td><td>&quot;Escola Pública&quot;</td><td>&quot;10&quot;</td><td>&quot;1&quot;</td><td>&quot;2M&quot;</td><td>&quot;Não&quot;</td><td>&quot;8.077085&quot;</td><td>&quot;B&quot;</td><td>&quot;Ametista&quot;</td><td>&quot;Seu destaque em 2020: A sua bo…</td><td>&quot;Seu destaque em 2020: As suas …</td><td>&quot;Seu destaque em 2020: A sua bo…</td><td>&quot;7.50002&quot;</td><td>&quot;8&quot;</td><td>&quot;7.5&quot;</td><td>&quot;7.5&quot;</td><td>&quot;8.4375&quot;</td><td>&quot;8.166665&quot;</td><td>&quot;10&quot;</td></tr></tbody></table></div>"
      ],
      "text/plain": [
       "shape: (5, 20)\n",
       "┌──────┬─────────┬────────────────────┬─────────────┬───┬──────┬────────┬───────────────────┬──────┐\n",
       "│ ANO  ┆ NOME    ┆ INSTITUICAO_ENSINO ┆ IDADE_ALUNO ┆ … ┆ IDA  ┆ IPP    ┆ IPV               ┆ IAN  │\n",
       "│ ---  ┆ ---     ┆ _ALUNO             ┆ ---         ┆   ┆ ---  ┆ ---    ┆ ---               ┆ ---  │\n",
       "│ i32  ┆ str     ┆ ---                ┆ str         ┆   ┆ str  ┆ str    ┆ str               ┆ str  │\n",
       "│      ┆         ┆ str                ┆             ┆   ┆      ┆        ┆                   ┆      │\n",
       "╞══════╪═════════╪════════════════════╪═════════════╪═══╪══════╪════════╪═══════════════════╪══════╡\n",
       "│ 2020 ┆ ALUNO-1 ┆ Escola Pública     ┆ 11          ┆ … ┆ 7    ┆ 5.9375 ┆ 7.75              ┆ 10   │\n",
       "│ 2020 ┆ ALUNO-2 ┆ null               ┆ null        ┆ … ┆ null ┆ null   ┆ null              ┆ null │\n",
       "│ 2020 ┆ ALUNO-3 ┆ Escola Pública     ┆ 12          ┆ … ┆ 5.5  ┆ 8.125  ┆ 8.111113333333334 ┆ 10   │\n",
       "│ 2020 ┆ ALUNO-4 ┆ Escola Pública     ┆ 10          ┆ … ┆ 0    ┆ 7.1875 ┆ 7.75              ┆ 5    │\n",
       "│ 2020 ┆ ALUNO-5 ┆ Escola Pública     ┆ 10          ┆ … ┆ 7.5  ┆ 8.4375 ┆ 8.166665          ┆ 10   │\n",
       "└──────┴─────────┴────────────────────┴─────────────┴───┴──────┴────────┴───────────────────┴──────┘"
      ]
     },
     "execution_count": 171,
     "metadata": {},
     "output_type": "execute_result"
    }
   ],
   "source": []
  },
  {
   "cell_type": "code",
   "execution_count": null,
   "id": "c6fe4c88-f5ba-4754-bbc4-fb8ee3fe22f3",
   "metadata": {},
   "outputs": [],
   "source": [
    "df\n"
   ]
  }
 ],
 "metadata": {
  "kernelspec": {
   "display_name": "Python 3 (ipykernel)",
   "language": "python",
   "name": "python3"
  },
  "language_info": {
   "codemirror_mode": {
    "name": "ipython",
    "version": 3
   },
   "file_extension": ".py",
   "mimetype": "text/x-python",
   "name": "python",
   "nbconvert_exporter": "python",
   "pygments_lexer": "ipython3",
   "version": "3.11.6"
  }
 },
 "nbformat": 4,
 "nbformat_minor": 5
}
